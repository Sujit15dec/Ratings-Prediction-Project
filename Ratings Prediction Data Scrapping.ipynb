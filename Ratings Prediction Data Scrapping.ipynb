{
 "cells": [
  {
   "cell_type": "markdown",
   "id": "40fb7889",
   "metadata": {},
   "source": [
    "### Ratings Prediction Data Scrapping"
   ]
  },
  {
   "cell_type": "code",
   "execution_count": 1,
   "id": "ce202c89",
   "metadata": {},
   "outputs": [],
   "source": [
    "#importing all the necessary libraries\n",
    "import selenium\n",
    "import pandas as pd\n",
    "import numpy as np\n",
    "from selenium import webdriver\n",
    "from bs4 import BeautifulSoup\n",
    "import requests\n",
    "import time\n",
    "from selenium.common.exceptions import NoSuchElementException,ElementNotInteractableException,ElementNotVisibleException\n",
    "import re\n",
    "import warnings\n",
    "warnings.filterwarnings('ignore')"
   ]
  },
  {
   "cell_type": "code",
   "execution_count": 2,
   "id": "c2cb1e1f",
   "metadata": {},
   "outputs": [],
   "source": [
    "from selenium.webdriver.edge.service import Service"
   ]
  },
  {
   "cell_type": "code",
   "execution_count": 3,
   "id": "6e105c1e",
   "metadata": {},
   "outputs": [],
   "source": [
    "s = Service(\"msedgedriver.exe\")"
   ]
  },
  {
   "cell_type": "markdown",
   "id": "87fa41af",
   "metadata": {},
   "source": [
    "### Flipkart.com"
   ]
  },
  {
   "cell_type": "code",
   "execution_count": 4,
   "id": "ae24157b",
   "metadata": {},
   "outputs": [],
   "source": [
    "#driver loads www.flipkart.com\n",
    "url =  'https://www.flipkart.com/'\n",
    "driver = webdriver.Chrome(r\"C:\\Users\\HP\\Downloads\\chromedriver_win32/chromedriver.exe\")\n",
    "driver.maximize_window() \n",
    "driver.get(url) #accessing the url on web driver"
   ]
  },
  {
   "cell_type": "code",
   "execution_count": 6,
   "id": "b22ccf25",
   "metadata": {},
   "outputs": [],
   "source": [
    "#searching for \"Smartphone\"\n",
    "search = driver.find_element_by_xpath('/html/body/div/div/div[1]/div[1]/div[2]/div[2]/form/div/div/input')\n",
    "search.send_keys('Smartphone')\n",
    "searchbtn = driver.find_element_by_class_name('L0Z3Pu')\n",
    "searchbtn.click()"
   ]
  },
  {
   "cell_type": "code",
   "execution_count": 7,
   "id": "9763eb15",
   "metadata": {},
   "outputs": [],
   "source": [
    "#empty list for stoing all URLs of smartphone products\n",
    "produrl = []"
   ]
  },
  {
   "cell_type": "code",
   "execution_count": 8,
   "id": "927b81bf",
   "metadata": {},
   "outputs": [],
   "source": [
    "#the url of each smartphone is appended to the the list\n",
    "produrl_tag = driver.find_elements_by_xpath(\"//a[@class='_1fQZEK']\")\n",
    "for u in produrl_tag:\n",
    "     produrl.append(u.get_attribute(\"href\"))"
   ]
  },
  {
   "cell_type": "code",
   "execution_count": 9,
   "id": "c3d79c53",
   "metadata": {},
   "outputs": [],
   "source": [
    "revurl=[] # an empty list to store all the urls of the review section of the products"
   ]
  },
  {
   "cell_type": "code",
   "execution_count": 11,
   "id": "33976ebf",
   "metadata": {},
   "outputs": [],
   "source": [
    "#the url of review section of each product is appended to the the list\n",
    "for i in produrl:\n",
    "    driver.get(i)\n",
    "    time.sleep(1)\n",
    "    rev_tag = driver.find_element_by_xpath(\"//*[@class='col JOpGWq']/a\")\n",
    "    revurl.append(rev_tag.get_attribute(\"href\")) "
   ]
  },
  {
   "cell_type": "code",
   "execution_count": 12,
   "id": "b0da09d1",
   "metadata": {},
   "outputs": [],
   "source": [
    "cmt = [] # an empty list to store all of the comment\n",
    "rate = [] # an empty list to store all the ratings\n",
    "revpgurl=[] # an empty list to store all the urls of the pages containing reviews"
   ]
  },
  {
   "cell_type": "code",
   "execution_count": 13,
   "id": "b7b406fe",
   "metadata": {},
   "outputs": [],
   "source": [
    "#the url of each comment page is appended to the the list\n",
    "for i in revurl:\n",
    "    driver.get(i)\n",
    "    time.sleep(2)\n",
    "    \n",
    "              \n",
    "    revpg=driver.find_elements_by_xpath(\"//a[@class='ge-49M']\")\n",
    "    for n in revpg:\n",
    "        revpgurl.append(n.get_attribute(\"href\"))\n",
    "    "
   ]
  },
  {
   "cell_type": "code",
   "execution_count": 14,
   "id": "3a588668",
   "metadata": {},
   "outputs": [],
   "source": [
    "#all the comments and ratings are collected\n",
    "for j in revpgurl:\n",
    "        driver.get(j)\n",
    "        time.sleep(3)\n",
    "        comment_tag = driver.find_elements_by_xpath(\"//div[@class='t-ZTKy']/div/div\")\n",
    "        rate_tag = driver.find_elements_by_xpath(\"//div[@class='_3LWZlK _1BLPMq']\")\n",
    "    \n",
    "        for k in comment_tag:\n",
    "            try:\n",
    "                cmt.append(k.text.replace(\"\\n\",\" \"))\n",
    "            except:\n",
    "                cmt.append(\"-\")\n",
    "        for r in rate_tag:\n",
    "            try:\n",
    "                rate.append(r.text)\n",
    "            except:\n",
    "                rate.append(\"-\")"
   ]
  },
  {
   "cell_type": "code",
   "execution_count": 15,
   "id": "011a4bb4",
   "metadata": {},
   "outputs": [],
   "source": [
    "ratingsdf = {'Comment':cmt[0:1700],'Rating':rate[0:1700]}\n",
    "\n",
    "Ratedf  = pd.DataFrame(ratingsdf) #creating dataframe of reviews and ratings"
   ]
  },
  {
   "cell_type": "code",
   "execution_count": 16,
   "id": "7c138863",
   "metadata": {},
   "outputs": [
    {
     "data": {
      "text/html": [
       "<div>\n",
       "<style scoped>\n",
       "    .dataframe tbody tr th:only-of-type {\n",
       "        vertical-align: middle;\n",
       "    }\n",
       "\n",
       "    .dataframe tbody tr th {\n",
       "        vertical-align: top;\n",
       "    }\n",
       "\n",
       "    .dataframe thead th {\n",
       "        text-align: right;\n",
       "    }\n",
       "</style>\n",
       "<table border=\"1\" class=\"dataframe\">\n",
       "  <thead>\n",
       "    <tr style=\"text-align: right;\">\n",
       "      <th></th>\n",
       "      <th>Comment</th>\n",
       "      <th>Rating</th>\n",
       "    </tr>\n",
       "  </thead>\n",
       "  <tbody>\n",
       "    <tr>\n",
       "      <th>0</th>\n",
       "      <td>Realme mobile is battery very good camera is b...</td>\n",
       "      <td>5</td>\n",
       "    </tr>\n",
       "    <tr>\n",
       "      <th>1</th>\n",
       "      <td>great phone in best discounts superb phone i l...</td>\n",
       "      <td>5</td>\n",
       "    </tr>\n",
       "    <tr>\n",
       "      <th>2</th>\n",
       "      <td>Pros, Cons, Solutions of Cons, Recommendations...</td>\n",
       "      <td>4</td>\n",
       "    </tr>\n",
       "    <tr>\n",
       "      <th>3</th>\n",
       "      <td>At this price range realme c21y is good for da...</td>\n",
       "      <td>5</td>\n",
       "    </tr>\n",
       "    <tr>\n",
       "      <th>4</th>\n",
       "      <td>There is only two cones 1. Front camera qualit...</td>\n",
       "      <td>4</td>\n",
       "    </tr>\n",
       "    <tr>\n",
       "      <th>...</th>\n",
       "      <td>...</td>\n",
       "      <td>...</td>\n",
       "    </tr>\n",
       "    <tr>\n",
       "      <th>1695</th>\n",
       "      <td>This mobile f12 is absolute value for money wi...</td>\n",
       "      <td>3</td>\n",
       "    </tr>\n",
       "    <tr>\n",
       "      <th>1696</th>\n",
       "      <td>*Display is great.... No such phone can provid...</td>\n",
       "      <td>5</td>\n",
       "    </tr>\n",
       "    <tr>\n",
       "      <th>1697</th>\n",
       "      <td>Overall good camera and battery phone in this ...</td>\n",
       "      <td>5</td>\n",
       "    </tr>\n",
       "    <tr>\n",
       "      <th>1698</th>\n",
       "      <td>Best clean budget phone. If you need a clean. ...</td>\n",
       "      <td>5</td>\n",
       "    </tr>\n",
       "    <tr>\n",
       "      <th>1699</th>\n",
       "      <td>Low light camera is not good , selfie is avera...</td>\n",
       "      <td>5</td>\n",
       "    </tr>\n",
       "  </tbody>\n",
       "</table>\n",
       "<p>1700 rows × 2 columns</p>\n",
       "</div>"
      ],
      "text/plain": [
       "                                                Comment Rating\n",
       "0     Realme mobile is battery very good camera is b...      5\n",
       "1     great phone in best discounts superb phone i l...      5\n",
       "2     Pros, Cons, Solutions of Cons, Recommendations...      4\n",
       "3     At this price range realme c21y is good for da...      5\n",
       "4     There is only two cones 1. Front camera qualit...      4\n",
       "...                                                 ...    ...\n",
       "1695  This mobile f12 is absolute value for money wi...      3\n",
       "1696  *Display is great.... No such phone can provid...      5\n",
       "1697  Overall good camera and battery phone in this ...      5\n",
       "1698  Best clean budget phone. If you need a clean. ...      5\n",
       "1699  Low light camera is not good , selfie is avera...      5\n",
       "\n",
       "[1700 rows x 2 columns]"
      ]
     },
     "execution_count": 16,
     "metadata": {},
     "output_type": "execute_result"
    }
   ],
   "source": [
    "Ratedf"
   ]
  },
  {
   "cell_type": "code",
   "execution_count": 18,
   "id": "0b85763f",
   "metadata": {},
   "outputs": [],
   "source": [
    "Ratedf.to_csv('RatingsWebScrapped.csv') # Saving as .csv file"
   ]
  }
 ],
 "metadata": {
  "kernelspec": {
   "display_name": "Python 3",
   "language": "python",
   "name": "python3"
  },
  "language_info": {
   "codemirror_mode": {
    "name": "ipython",
    "version": 3
   },
   "file_extension": ".py",
   "mimetype": "text/x-python",
   "name": "python",
   "nbconvert_exporter": "python",
   "pygments_lexer": "ipython3",
   "version": "3.8.8"
  }
 },
 "nbformat": 4,
 "nbformat_minor": 5
}
